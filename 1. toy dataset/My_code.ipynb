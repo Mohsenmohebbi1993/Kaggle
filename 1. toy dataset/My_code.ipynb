{
 "cells": [
  {
   "cell_type": "markdown",
   "metadata": {},
   "source": [
    "# Statistics Tutorial"
   ]
  },
  {
   "cell_type": "markdown",
   "metadata": {},
   "source": [
    "Hi!\n",
    "\n",
    "This notebook is a gentle tutorial to essential concepts in statistics. I try to present the concepts in a fun and interactive way and I encourage you to play with the code to get a better grasp of the concepts.\n",
    "\n",
    "I will be using a \"[Toy Dataset](https://www.kaggle.com/carlolepelaars/toy-dataset)\" to illustrate concepts in this kernel.\n",
    "\n",
    "The Jupyter Notebook and dataset are also available as a [Github repository](https://github.com/CarloLepelaars/stats_tutorial).\n",
    "\n",
    "![](https://i.stack.imgur.com/c88K3.png)"
   ]
  },
  {
   "cell_type": "markdown",
   "metadata": {},
   "source": [
    "## Table of contents\n",
    "\n",
    "- [Preparation](#1)\n",
    "- [Discrete and Continuous Variables](#2)\n",
    "  - PMF (Probability Mass Function)\n",
    "  - PDF (Probability Density Function)\n",
    "  - CDF (Cumulative Distribution Function)\n",
    "- [Distributions](#3)\n",
    "  - Uniform Distribution\n",
    "  - Normal Distribution\n",
    "  - Binomial Distribution\n",
    "  - Poisson Distribution\n",
    "  - Log-normal Distribution\n",
    "- [Summary Statistics and Moments](#4)\n",
    "- [Bias, MSE and SE](#5)\n",
    "- [Sampling Methods](#6)\n",
    "- [Covariance](#7)\n",
    "- [Correlation](#8)\n",
    "- [Linear Regression](#9)\n",
    "  - Anscombe's Quartet\n",
    "- [Bootstrapping](#10)\n",
    "- [Hypothesis Testing](#11)\n",
    "  - p-value\n",
    "  - q-q plot\n",
    "- [Outliers](#12)\n",
    "  - Grubbs Test\n",
    "  - Tukey's Method\n",
    "- [Overfitting](#20)\n",
    "  - Prevention of Overfitting\n",
    "  - Cross-Validation\n",
    "- [Generalized Linear Models (GLMs)](#13)\n",
    "  - Link Functions\n",
    "  - Logistic Regression\n",
    "- [Frequentist vs. Bayes](#14)\n",
    "- [Bonus: Free Statistics Courses](#15)\n",
    "- [Sources](#16)"
   ]
  },
  {
   "cell_type": "markdown",
   "metadata": {},
   "source": [
    "## Preparation <a id=\"1\"></a>"
   ]
  },
  {
   "cell_type": "code",
   "execution_count": 1,
   "metadata": {},
   "outputs": [
    {
     "name": "stdout",
     "output_type": "stream",
     "text": [
      "\n",
      "# Files and file sizes\n",
      "toy_dataset.csv               | 5.74 MB\n"
     ]
    }
   ],
   "source": [
    "# Dependencies\n",
    "\n",
    "# Standard Dependencies\n",
    "import os\n",
    "import numpy as np\n",
    "import pandas as pd\n",
    "from math import sqrt\n",
    "\n",
    "# Visualization\n",
    "from pylab import *\n",
    "import matplotlib.mlab as mlab\n",
    "import matplotlib.pyplot as plt\n",
    "import seaborn as sns\n",
    "\n",
    "# Statistics\n",
    "from statistics import median\n",
    "from scipy import signal\n",
    "from scipy.special import factorial\n",
    "import scipy.stats as stats\n",
    "from scipy.stats import sem, binom, lognorm, poisson, bernoulli, spearmanr\n",
    "from scipy.fftpack import fft, fftshift\n",
    "\n",
    "# Scikit-learn for Machine Learning models\n",
    "from sklearn.linear_model import LogisticRegression\n",
    "from sklearn.model_selection import train_test_split\n",
    "\n",
    "# Seed for reproducability\n",
    "seed = 12345\n",
    "np.random.seed(seed)\n",
    "\n",
    "# Kaggle Directory for Kernels\n",
    "KAGGLE_DIR = 'D:/python/kaggle/1. toy dataset/dataset/'\n",
    "\n",
    "# Read in csv of Toy Dataset\n",
    "# We will use this dataset throughout the tutorial\n",
    "df = pd.read_csv('D:/python/kaggle/1. toy dataset/dataset/toy_dataset.csv')\n",
    "\n",
    "# Files and file sizes\n",
    "print('\\n# Files and file sizes')\n",
    "for file in os.listdir(KAGGLE_DIR):\n",
    "    print('{}| {} MB'.format(file.ljust(30), \n",
    "                             str(round(os.path.getsize(KAGGLE_DIR + file) / 1000000, 2))))"
   ]
  }
 ],
 "metadata": {
  "kernelspec": {
   "display_name": "venv_",
   "language": "python",
   "name": "python3"
  },
  "language_info": {
   "codemirror_mode": {
    "name": "ipython",
    "version": 3
   },
   "file_extension": ".py",
   "mimetype": "text/x-python",
   "name": "python",
   "nbconvert_exporter": "python",
   "pygments_lexer": "ipython3",
   "version": "3.12.6"
  }
 },
 "nbformat": 4,
 "nbformat_minor": 2
}
